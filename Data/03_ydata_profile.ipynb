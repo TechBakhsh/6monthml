{
 "cells": [
  {
   "cell_type": "markdown",
   "metadata": {},
   "source": [
    "# Automatic EDA using ydata_profile"
   ]
  },
  {
   "cell_type": "code",
   "execution_count": 3,
   "metadata": {},
   "outputs": [],
   "source": [
    "# import libraries\n",
    "import pandas as pd\n",
    "import seaborn as sns \n",
    "import ydata_profiling as yd"
   ]
  },
  {
   "cell_type": "code",
   "execution_count": 4,
   "metadata": {},
   "outputs": [],
   "source": [
    "# Import profile report \n",
    "df = sns.load_dataset('titanic')"
   ]
  },
  {
   "cell_type": "code",
   "execution_count": 9,
   "metadata": {},
   "outputs": [
    {
     "name": "stderr",
     "output_type": "stream",
     "text": [
      "Summarize dataset:   0%|          | 0/5 [00:00<?, ?it/s]"
     ]
    },
    {
     "name": "stderr",
     "output_type": "stream",
     "text": [
      "Summarize dataset: 100%|██████████| 41/41 [00:13<00:00,  3.05it/s, Completed]                    \n",
      "Generate report structure: 100%|██████████| 1/1 [00:15<00:00, 15.01s/it]\n",
      "Render HTML: 100%|██████████| 1/1 [00:04<00:00,  4.24s/it]\n",
      "Export report to file: 100%|██████████| 1/1 [00:00<00:00, 62.55it/s]\n"
     ]
    }
   ],
   "source": [
    "profile = yd.ProfileReport(df)\n",
    "profile.to_file(output_file='./Data.html')"
   ]
  },
  {
   "cell_type": "code",
   "execution_count": 12,
   "metadata": {},
   "outputs": [],
   "source": [
    "df_pop = pd.read_csv(\"sub-division_population_of_pakistan.csv\")"
   ]
  },
  {
   "cell_type": "code",
   "execution_count": 13,
   "metadata": {},
   "outputs": [
    {
     "name": "stderr",
     "output_type": "stream",
     "text": [
      "Summarize dataset: 100%|██████████| 319/319 [02:11<00:00,  2.42it/s, Completed]                                                     \n",
      "Generate report structure: 100%|██████████| 1/1 [00:30<00:00, 30.24s/it]\n",
      "Render HTML: 100%|██████████| 1/1 [00:31<00:00, 31.54s/it]\n",
      "Export report to file: 100%|██████████| 1/1 [00:00<00:00,  5.12it/s]\n"
     ]
    }
   ],
   "source": [
    "profile = yd.ProfileReport(df_pop)\n",
    "profile.to_file(output_file='./Data.html')"
   ]
  },
  {
   "cell_type": "code",
   "execution_count": null,
   "metadata": {},
   "outputs": [],
   "source": []
  }
 ],
 "metadata": {
  "kernelspec": {
   "display_name": "Python 3",
   "language": "python",
   "name": "python3"
  },
  "language_info": {
   "codemirror_mode": {
    "name": "ipython",
    "version": 3
   },
   "file_extension": ".py",
   "mimetype": "text/x-python",
   "name": "python",
   "nbconvert_exporter": "python",
   "pygments_lexer": "ipython3",
   "version": "3.10.13"
  }
 },
 "nbformat": 4,
 "nbformat_minor": 2
}
